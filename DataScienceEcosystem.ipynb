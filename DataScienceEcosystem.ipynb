{
 "cells": [
  {
   "cell_type": "markdown",
   "id": "16d12594-16f5-4d9a-9610-9203783b4ebe",
   "metadata": {},
   "source": [
    "# Data Science Tools and Ecosystem\n",
    "## Author\n",
    "Mosawer Mahboob."
   ]
  },
  {
   "cell_type": "markdown",
   "id": "8a48b499-ff36-4494-853f-a764d307304a",
   "metadata": {},
   "source": [
    "In this notebook, Data Science Tools and Ecosystem are summarized.\n",
    "\n",
    "__Objectives:__\n",
    "* List popular languages for Data Science\n",
    "* List popular libraries used for Data Science\n",
    "* Perform arithmetic operation with Python"
   ]
  },
  {
   "cell_type": "markdown",
   "id": "4aba1180-d367-4e9e-980f-987cbb5412ae",
   "metadata": {},
   "source": [
    "Some of the popular languages that Data Scientists use are:\n",
    "1. Python\n",
    "2. R\n",
    "3. Scala\n",
    "4. SQL\n",
    "5. Julia"
   ]
  },
  {
   "cell_type": "markdown",
   "id": "08d574ad-1db3-4d73-ad34-044936693f4a",
   "metadata": {},
   "source": [
    "Some of the commonly used libraries used by Data Scientists include:\n",
    "1. pandas\n",
    "2. numpy\n",
    "3. matplotlib\n",
    "4. sci-kit Learn\n",
    "5. tensorflow\n",
    "6. ggplot2\n",
    "7. dplyr\n",
    "8. caret\n",
    "9. tidyr\n",
    "10. shiny"
   ]
  },
  {
   "cell_type": "markdown",
   "id": "66bc16b1-5fee-43f9-bee4-f0c8be25c6cc",
   "metadata": {},
   "source": [
    "| Data Science Tools            |\n",
    "|-------------------------------|\n",
    "| Jupyter Notebook               |\n",
    "| RStudio                        |\n",
    "| Apache Zeppelin                |"
   ]
  },
  {
   "cell_type": "markdown",
   "id": "9ae972a4-f578-46f4-a450-2ab2370845c0",
   "metadata": {},
   "source": [
    "Below are a few examples of evaluating arithmetic expressions in Python."
   ]
  },
  {
   "cell_type": "code",
   "execution_count": 3,
   "id": "985d6684-3227-4f6a-a276-9896aa5311e1",
   "metadata": {
    "tags": []
   },
   "outputs": [
    {
     "data": {
      "text/plain": [
       "17"
      ]
     },
     "execution_count": 3,
     "metadata": {},
     "output_type": "execute_result"
    }
   ],
   "source": [
    "# This a simple arithmetic expression to mutiply then add integers\n",
    "(3*4)+5"
   ]
  },
  {
   "cell_type": "code",
   "execution_count": 5,
   "id": "97516ca4-f8df-4cd2-92b2-0d9c7d33acbe",
   "metadata": {
    "tags": []
   },
   "outputs": [
    {
     "name": "stdout",
     "output_type": "stream",
     "text": [
      "3.3333333333333335\n"
     ]
    }
   ],
   "source": [
    "#  This will convert 200 minutes to hours by diving by 60\n",
    "minutes = 200\n",
    "hours = minutes / 60\n",
    "print(hours)"
   ]
  },
  {
   "cell_type": "code",
   "execution_count": 9,
   "id": "d3f2483a-e5b4-40db-aa2e-afa6cd33d195",
   "metadata": {
    "tags": []
   },
   "outputs": [
    {
     "name": "stdout",
     "output_type": "stream",
     "text": [
      "\n",
      "*** Please tell me who you are.\n",
      "\n",
      "Run\n",
      "\n",
      "  git config --global user.email \"you@example.com\"\n",
      "  git config --global user.name \"Your Name\"\n",
      "\n",
      "to set your account's default identity.\n",
      "Omit --global to set the identity only in this repository.\n",
      "\n",
      "fatal: unable to auto-detect email address (got 'jupyterlab@jupyterlab-masomahboob.(none)')\n"
     ]
    }
   ],
   "source": [
    "! git commit -m \"Data Science Graded Assignment\""
   ]
  },
  {
   "cell_type": "code",
   "execution_count": null,
   "id": "67e658c0-2aca-42e0-b1e1-4dc4e08be35b",
   "metadata": {},
   "outputs": [],
   "source": []
  }
 ],
 "metadata": {
  "kernelspec": {
   "display_name": "Python",
   "language": "python",
   "name": "conda-env-python-py"
  },
  "language_info": {
   "codemirror_mode": {
    "name": "ipython",
    "version": 3
   },
   "file_extension": ".py",
   "mimetype": "text/x-python",
   "name": "python",
   "nbconvert_exporter": "python",
   "pygments_lexer": "ipython3",
   "version": "3.7.12"
  }
 },
 "nbformat": 4,
 "nbformat_minor": 5
}
